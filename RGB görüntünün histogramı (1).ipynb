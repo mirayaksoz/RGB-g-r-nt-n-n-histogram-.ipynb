{
 "cells": [
  {
   "cell_type": "code",
   "execution_count": 1,
   "metadata": {},
   "outputs": [],
   "source": [
    "#histogram nedir?\n",
    "#Histogram, sayısal bir resim içerisinde her renk değerinden kaç adet olduğunu gösteren grafiktir. \n",
    "#Bu grafiğe bakılarak resmin parlaklık durumu ya da tonları hakkında bilgi sahibi olunabilir"
   ]
  },
  {
   "cell_type": "code",
   "execution_count": 2,
   "metadata": {},
   "outputs": [
    {
     "data": {
      "text/plain": [
       "<Figure size 640x480 with 1 Axes>"
      ]
     },
     "metadata": {},
     "output_type": "display_data"
    }
   ],
   "source": [
    "from skimage import io\n",
    "import matplotlib.pyplot as plt\n",
    "import numpy as np\n",
    "image = io.imread(\"https://media.self.com/photos/5e8e2b54f77fc200080d4122/3:4/w_2706,h_3609,c_limit/pandas-eating-bamboo.jpg\")\n",
    "plt.imshow(image)\n",
    "#plt.imshow(image[:,:,1],cmap='gray')\n",
    "plt.show()"
   ]
  },
  {
   "cell_type": "code",
   "execution_count": 3,
   "metadata": {},
   "outputs": [
    {
     "data": {
      "image/png": "[encoded data removed]",
      "text/plain": [
       "<Figure size 432x288 with 1 Axes>"
      ]
     },
     "metadata": {
      "needs_background": "light"
     },
     "output_type": "display_data"
    }
   ],
   "source": [
    "#RGB modelinde ana renkler kırmızı, yeşil ve mavidir, dolayısıyla modelin adıdır. \n",
    "#Her birincil renge genellikle kanal denir.\n",
    "#En sık olarak, eklenen ana rengin miktarı, [0, 255] kapalı aralığında bir tamsayı olarak temsil edilir.\n",
    "#Bu nedenle, başka bir renk üretmek için eklenebilecek her ana rengin 256 ayrık miktarı vardır.\n",
    "#Her rengin ayrık miktarlarının sayısı, 256, renk kanalı değerini tutmak için kullanılan bit sayısına, yani sekiz (2**8 = 256) karşılık gelir.\n",
    "#Üç kanalımız olduğu için buna 24 bit renk derinliği denir.\n",
    "\n",
    "#alpha komutu rengin dolgusunu ayarlar.\n",
    "\n",
    "plt.hist(image.ravel(), bins = 256, color = 'pink', alpha= 0.4)\n",
    "plt.hist(image[:, :, 0].ravel(), bins = 256, color = 'red', alpha = 0.8)\n",
    "plt.hist(image[:, :, 1].ravel(), bins = 256, color = 'Green', alpha = 0.9)\n",
    "plt.hist(image[:, :, 2].ravel(), bins = 256, color = 'Blue', alpha = 0.3)\n",
    "plt.xlabel('Intensity Value')\n",
    "plt.ylabel('Count')\n",
    "plt.legend(['TOTAL','Red_Channel', 'Green_Channel', 'Blue_Channel'])\n",
    "plt.ylim((0,500000))\n",
    "plt.show()\n"
   ]
  },
  {
   "cell_type": "code",
   "execution_count": 4,
   "metadata": {},
   "outputs": [
    {
     "name": "stdout",
     "output_type": "stream",
     "text": [
      "--------------------------------------------------------------------------------\n"
     ]
    }
   ],
   "source": [
    "print(\"-\"*80)"
   ]
  },
  {
   "cell_type": "code",
   "execution_count": 5,
   "metadata": {},
   "outputs": [
    {
     "name": "stdout",
     "output_type": "stream",
     "text": [
      "[  0   1   2   3   4   5   6   7   8   9  10  11  12  13  14  15  16  17\n",
      "  18  19  20  21  22  23  24  25  26  27  28  29  30  31  32  33  34  35\n",
      "  36  37  38  39  40  41  42  43  44  45  46  47  48  49  50  51  52  53\n",
      "  54  55  56  57  58  59  60  61  62  63  64  65  66  67  68  69  70  71\n",
      "  72  73  74  75  76  77  78  79  80  81  82  83  84  85  86  87  88  89\n",
      "  90  91  92  93  94  95  96  97  98  99 100 101 102 103 104 105 106 107\n",
      " 108 109 110 111 112 113 114 115 116 117 118 119 120 121 122 123 124 125\n",
      " 126 127 128 129 130 131 132 133 134 135 136 137 138 139 140 141 142 143\n",
      " 144 145 146 147 148 149 150 151 152 153 154 155 156 157 158 159 160 161\n",
      " 162 163 164 165 166 167 168 169 170 171 172 173 174 175 176 177 178 179\n",
      " 180 181 182 183 184 185 186 187 188 189 190 191 192 193 194 195 196 197\n",
      " 198 199 200 201 202 203 204 205 206 207 208 209 210 211 212 213 214 215\n",
      " 216 217 218 219 220 221 222 223 224 225 226 227 228 229 230 231 232 233\n",
      " 234 235 236 237 238 239 240 241 242 243 244 245 246 247 248 249 250 251\n",
      " 252 253 254 255]\n",
      "[529738. 354542. 402344. 413630. 396703. 373489. 370646. 371133. 369435.\n",
      " 369413. 372813. 380184. 385908. 389160. 389635. 387615. 384064. 376463.\n",
      " 369194. 361331. 351366. 342074. 332149. 321853. 312884. 304695. 296305.\n",
      " 288773. 282019. 275485. 270008. 263992. 258149. 253046. 247282. 242213.\n",
      " 237765. 233228. 228885. 223309. 218797. 214451. 210422. 207298. 201414.\n",
      " 198330. 195541. 191759. 187524. 184446. 181766. 178456. 176089. 173147.\n",
      " 171608. 168814. 167275. 165966. 164436. 161876. 160776. 160514. 158274.\n",
      " 156185. 154827. 153921. 152603. 151544. 149086. 147856. 146255. 144726.\n",
      " 144220. 142249. 140677. 139333. 137651. 136546. 134289. 133311. 131032.\n",
      " 129162. 128184. 126157. 124938. 123969. 121906. 120499. 118189. 116864.\n",
      " 115279. 113572. 112144. 109734. 108579. 106962. 105094. 103816. 101982.\n",
      " 100523.  99195.  97387.  95839.  94614.  93745.  91673.  90899.  90161.\n",
      "  88733.  87365.  86312.  85894.  85045.  83827.  82550.  81324.  80333.\n",
      "  79791.  79021.  77749.  76712.  76413.  75092.  73822.  72868.  72256.\n",
      "  71417.  69866.  69559.  68160.  67414.  66175.  65486.  64312.  63096.\n",
      "  62214.  60997.  60067.  59028.  57583.  56402.  55405.  53795.  52611.\n",
      "  51176.  50544.  49361.  48243.  46886.  45164.  44622.  43353.  42190.\n",
      "  41295.  40473.  39283.  37973.  37533.  36450.  35476.  34559.  33818.\n",
      "  32977.  32520.  31427.  30924.  30072.  29034.  28520.  28080.  27557.\n",
      "  27124.  26485.  25874.  25202.  24771.  24731.  24220.  24139.  23588.\n",
      "  23372.  23088.  22879.  22880.  22415.  22498.  22171.  22039.  22329.\n",
      "  22136.  22249.  22669.  22885.  22927.  23103.  23114.  23834.  23926.\n",
      "  24381.  24787.  25066.  25444.  25669.  26219.  26226.  26828.  27585.\n",
      "  27642.  28213.  28832.  29121.  29955.  30194.  31379.  32137.  32678.\n",
      "  33058.  34348.  34610.  35130.  35263.  35604.  35959.  35657.  35276.\n",
      "  35456.  35344.  36025.  36656.  37764.  38641.  39689.  40893.  41978.\n",
      "  42723.  43696.  44108.  44042.  43783.  43766.  44691.  45822.  47763.\n",
      "  51022.  56063.  61627.  65217.  64775.  50673.  28367.  20023.  19148.\n",
      "  20258.  10499.   2046.   3915.]\n"
     ]
    },
    {
     "data": {
      "image/png": "[encoded data removed]",
      "text/plain": [
       "<Figure size 1440x720 with 2 Axes>"
      ]
     },
     "metadata": {
      "needs_background": "light"
     },
     "output_type": "display_data"
    }
   ],
   "source": [
    "k=0\n",
    "H=np.zeros((256))\n",
    "#print(H)\n",
    "while k<256: #while döngüsü ile k değerlerinmin 0'dan 256'ya kadar adım atması sağlanır. \n",
    "    H[k]=np.count_nonzero(image==k) #görüntüden gelen yoğunluk değerlerinin miktarının yazılması gerekir. \n",
    "    #Değerleri de H matrisine atarız.\n",
    "    k=k+1\n",
    "    \n",
    "Intensity=np.arange(0,256,1)\n",
    "print(Intensity)\n",
    "print(H)\n",
    "plt.figure(figsize=(20,10))\n",
    "plt.subplot(3,3,1)\n",
    "plt.plot(Intensity,H,'b-')\n",
    "plt.subplot(3,3,2)\n",
    "plt.bar(Intensity,H,color='pink',width=0.5) #çubuklardan oluşmasını istersek:\n",
    "plt.xlabel(\"Intensity Value\")\n",
    "plt.ylabel(\"count\")\n",
    "plt.legend(['TOTAL'])\n",
    "plt.show()\n",
    "#plt.bar()"
   ]
  },
  {
   "cell_type": "code",
   "execution_count": 6,
   "metadata": {},
   "outputs": [
    {
     "data": {
      "text/plain": [
       "array([[[ 83, 120,  68],\n",
       "        [ 96, 133,  81],\n",
       "        [ 87, 124,  72],\n",
       "        ...,\n",
       "        [ 64,  55,  60],\n",
       "        [ 88,  77,  83],\n",
       "        [ 91,  80,  86]],\n",
       "\n",
       "       [[ 91, 128,  76],\n",
       "        [ 94, 131,  79],\n",
       "        [ 85, 122,  70],\n",
       "        ...,\n",
       "        [ 69,  60,  65],\n",
       "        [ 73,  62,  68],\n",
       "        [ 74,  63,  69]],\n",
       "\n",
       "       [[ 88, 125,  73],\n",
       "        [ 87, 124,  72],\n",
       "        [ 80, 117,  65],\n",
       "        ...,\n",
       "        [ 90,  81,  86],\n",
       "        [ 56,  45,  51],\n",
       "        [ 58,  47,  53]],\n",
       "\n",
       "       ...,\n",
       "\n",
       "       [[ 23,  22,  28],\n",
       "        [ 22,  21,  27],\n",
       "        [ 23,  22,  28],\n",
       "        ...,\n",
       "        [ 61,  47,  18],\n",
       "        [ 50,  37,  18],\n",
       "        [ 42,  29,  10]],\n",
       "\n",
       "       [[ 26,  25,  31],\n",
       "        [ 19,  18,  24],\n",
       "        [ 18,  17,  23],\n",
       "        ...,\n",
       "        [ 44,  31,  14],\n",
       "        [ 47,  34,  18],\n",
       "        [ 41,  28,  12]],\n",
       "\n",
       "       [[ 18,  17,  23],\n",
       "        [ 24,  23,  29],\n",
       "        [ 26,  25,  31],\n",
       "        ...,\n",
       "        [ 33,  20,  11],\n",
       "        [ 37,  25,   1],\n",
       "        [ 38,  26,   2]]], dtype=uint8)"
      ]
     },
     "execution_count": 6,
     "metadata": {},
     "output_type": "execute_result"
    }
   ],
   "source": [
    "image"
   ]
  },
  {
   "cell_type": "code",
   "execution_count": 7,
   "metadata": {},
   "outputs": [
    {
     "data": {
      "text/plain": [
       "3609"
      ]
     },
     "execution_count": 7,
     "metadata": {},
     "output_type": "execute_result"
    }
   ],
   "source": [
    "len(image)"
   ]
  },
  {
   "cell_type": "code",
   "execution_count": 8,
   "metadata": {},
   "outputs": [
    {
     "data": {
      "text/plain": [
       "29297862"
      ]
     },
     "execution_count": 8,
     "metadata": {},
     "output_type": "execute_result"
    }
   ],
   "source": [
    "np.size(image)"
   ]
  },
  {
   "cell_type": "code",
   "execution_count": null,
   "metadata": {},
   "outputs": [],
   "source": []
  }
 ],
 "metadata": {
  "kernelspec": {
   "display_name": "Python 3",
   "language": "python",
   "name": "python3"
  },
  "language_info": {
   "codemirror_mode": {
    "name": "ipython",
    "version": 3
   },
   "file_extension": ".py",
   "mimetype": "text/x-python",
   "name": "python",
   "nbconvert_exporter": "python",
   "pygments_lexer": "ipython3",
   "version": "3.7.3"
  }
 },
 "nbformat": 4,
 "nbformat_minor": 2
}
